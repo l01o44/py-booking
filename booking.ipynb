{
 "cells": [
  {
   "cell_type": "code",
   "execution_count": 53,
   "id": "a3dc47f1",
   "metadata": {},
   "outputs": [
    {
     "data": {
      "text/html": [
       "<div>\n",
       "<style scoped>\n",
       "    .dataframe tbody tr th:only-of-type {\n",
       "        vertical-align: middle;\n",
       "    }\n",
       "\n",
       "    .dataframe tbody tr th {\n",
       "        vertical-align: top;\n",
       "    }\n",
       "\n",
       "    .dataframe thead th {\n",
       "        text-align: right;\n",
       "    }\n",
       "</style>\n",
       "<table border=\"1\" class=\"dataframe\">\n",
       "  <thead>\n",
       "    <tr style=\"text-align: right;\">\n",
       "      <th></th>\n",
       "      <th>Hotel</th>\n",
       "      <th>Is Canceled</th>\n",
       "      <th>Lead Time</th>\n",
       "      <th>arrival full date</th>\n",
       "      <th>Arrival Date Year</th>\n",
       "      <th>Arrival Date Month</th>\n",
       "      <th>Arrival Date Week Number</th>\n",
       "      <th>Arrival Date Day of Month</th>\n",
       "      <th>Stays in Weekend nights</th>\n",
       "      <th>Stays in week nights</th>\n",
       "      <th>...</th>\n",
       "      <th>Adults</th>\n",
       "      <th>Children</th>\n",
       "      <th>Babies</th>\n",
       "      <th>Meal</th>\n",
       "      <th>Country</th>\n",
       "      <th>Reserved Room Type</th>\n",
       "      <th>Assigned room type</th>\n",
       "      <th>customer type</th>\n",
       "      <th>Reservation Status</th>\n",
       "      <th>Reservation status_date</th>\n",
       "    </tr>\n",
       "  </thead>\n",
       "  <tbody>\n",
       "    <tr>\n",
       "      <th>0</th>\n",
       "      <td>Resort Hotel</td>\n",
       "      <td>0</td>\n",
       "      <td>342</td>\n",
       "      <td>2015-07-01</td>\n",
       "      <td>2015</td>\n",
       "      <td>July</td>\n",
       "      <td>27</td>\n",
       "      <td>1</td>\n",
       "      <td>0</td>\n",
       "      <td>0</td>\n",
       "      <td>...</td>\n",
       "      <td>2</td>\n",
       "      <td>0.00</td>\n",
       "      <td>0</td>\n",
       "      <td>BB</td>\n",
       "      <td>PRT</td>\n",
       "      <td>C</td>\n",
       "      <td>C</td>\n",
       "      <td>Transient</td>\n",
       "      <td>Check-Out</td>\n",
       "      <td>2015-07-01</td>\n",
       "    </tr>\n",
       "    <tr>\n",
       "      <th>1</th>\n",
       "      <td>Resort Hotel</td>\n",
       "      <td>0</td>\n",
       "      <td>737</td>\n",
       "      <td>2015-07-01</td>\n",
       "      <td>2015</td>\n",
       "      <td>July</td>\n",
       "      <td>27</td>\n",
       "      <td>1</td>\n",
       "      <td>0</td>\n",
       "      <td>0</td>\n",
       "      <td>...</td>\n",
       "      <td>2</td>\n",
       "      <td>0.00</td>\n",
       "      <td>0</td>\n",
       "      <td>BB</td>\n",
       "      <td>PRT</td>\n",
       "      <td>C</td>\n",
       "      <td>C</td>\n",
       "      <td>Transient</td>\n",
       "      <td>Check-Out</td>\n",
       "      <td>2015-07-01</td>\n",
       "    </tr>\n",
       "    <tr>\n",
       "      <th>2</th>\n",
       "      <td>Resort Hotel</td>\n",
       "      <td>0</td>\n",
       "      <td>7</td>\n",
       "      <td>2015-07-01</td>\n",
       "      <td>2015</td>\n",
       "      <td>July</td>\n",
       "      <td>27</td>\n",
       "      <td>1</td>\n",
       "      <td>0</td>\n",
       "      <td>1</td>\n",
       "      <td>...</td>\n",
       "      <td>1</td>\n",
       "      <td>0.00</td>\n",
       "      <td>0</td>\n",
       "      <td>BB</td>\n",
       "      <td>GBR</td>\n",
       "      <td>A</td>\n",
       "      <td>C</td>\n",
       "      <td>Transient</td>\n",
       "      <td>Check-Out</td>\n",
       "      <td>2015-07-02</td>\n",
       "    </tr>\n",
       "    <tr>\n",
       "      <th>3</th>\n",
       "      <td>Resort Hotel</td>\n",
       "      <td>0</td>\n",
       "      <td>13</td>\n",
       "      <td>2015-07-01</td>\n",
       "      <td>2015</td>\n",
       "      <td>July</td>\n",
       "      <td>27</td>\n",
       "      <td>1</td>\n",
       "      <td>0</td>\n",
       "      <td>1</td>\n",
       "      <td>...</td>\n",
       "      <td>1</td>\n",
       "      <td>0.00</td>\n",
       "      <td>0</td>\n",
       "      <td>BB</td>\n",
       "      <td>GBR</td>\n",
       "      <td>A</td>\n",
       "      <td>A</td>\n",
       "      <td>Transient</td>\n",
       "      <td>Check-Out</td>\n",
       "      <td>2015-07-02</td>\n",
       "    </tr>\n",
       "    <tr>\n",
       "      <th>4</th>\n",
       "      <td>Resort Hotel</td>\n",
       "      <td>0</td>\n",
       "      <td>14</td>\n",
       "      <td>2015-07-01</td>\n",
       "      <td>2015</td>\n",
       "      <td>July</td>\n",
       "      <td>27</td>\n",
       "      <td>1</td>\n",
       "      <td>0</td>\n",
       "      <td>2</td>\n",
       "      <td>...</td>\n",
       "      <td>2</td>\n",
       "      <td>0.00</td>\n",
       "      <td>0</td>\n",
       "      <td>BB</td>\n",
       "      <td>GBR</td>\n",
       "      <td>A</td>\n",
       "      <td>A</td>\n",
       "      <td>Transient</td>\n",
       "      <td>Check-Out</td>\n",
       "      <td>2015-07-03</td>\n",
       "    </tr>\n",
       "  </tbody>\n",
       "</table>\n",
       "<p>5 rows × 21 columns</p>\n",
       "</div>"
      ],
      "text/plain": [
       "          Hotel  Is Canceled  Lead Time arrival full date  Arrival Date Year  \\\n",
       "0  Resort Hotel            0        342        2015-07-01               2015   \n",
       "1  Resort Hotel            0        737        2015-07-01               2015   \n",
       "2  Resort Hotel            0          7        2015-07-01               2015   \n",
       "3  Resort Hotel            0         13        2015-07-01               2015   \n",
       "4  Resort Hotel            0         14        2015-07-01               2015   \n",
       "\n",
       "  Arrival Date Month  Arrival Date Week Number  Arrival Date Day of Month  \\\n",
       "0               July                        27                          1   \n",
       "1               July                        27                          1   \n",
       "2               July                        27                          1   \n",
       "3               July                        27                          1   \n",
       "4               July                        27                          1   \n",
       "\n",
       "   Stays in Weekend nights  Stays in week nights  ...  Adults  Children  \\\n",
       "0                        0                     0  ...       2      0.00   \n",
       "1                        0                     0  ...       2      0.00   \n",
       "2                        0                     1  ...       1      0.00   \n",
       "3                        0                     1  ...       1      0.00   \n",
       "4                        0                     2  ...       2      0.00   \n",
       "\n",
       "   Babies  Meal Country Reserved Room Type Assigned room type customer type  \\\n",
       "0       0    BB     PRT                  C                  C     Transient   \n",
       "1       0    BB     PRT                  C                  C     Transient   \n",
       "2       0    BB     GBR                  A                  C     Transient   \n",
       "3       0    BB     GBR                  A                  A     Transient   \n",
       "4       0    BB     GBR                  A                  A     Transient   \n",
       "\n",
       "  Reservation Status Reservation status_date  \n",
       "0          Check-Out              2015-07-01  \n",
       "1          Check-Out              2015-07-01  \n",
       "2          Check-Out              2015-07-02  \n",
       "3          Check-Out              2015-07-02  \n",
       "4          Check-Out              2015-07-03  \n",
       "\n",
       "[5 rows x 21 columns]"
      ]
     },
     "execution_count": 53,
     "metadata": {},
     "output_type": "execute_result"
    }
   ],
   "source": [
    "import pandas as pd\n",
    "import seaborn as sns\n",
    "import matplotlib.pyplot as plt\n",
    "\n",
    "df = pd.read_csv('bookings.csv', sep=';')\n",
    "df.head()"
   ]
  },
  {
   "cell_type": "code",
   "execution_count": 54,
   "id": "d68a06f2",
   "metadata": {},
   "outputs": [
    {
     "data": {
      "text/html": [
       "<div>\n",
       "<style scoped>\n",
       "    .dataframe tbody tr th:only-of-type {\n",
       "        vertical-align: middle;\n",
       "    }\n",
       "\n",
       "    .dataframe tbody tr th {\n",
       "        vertical-align: top;\n",
       "    }\n",
       "\n",
       "    .dataframe thead th {\n",
       "        text-align: right;\n",
       "    }\n",
       "</style>\n",
       "<table border=\"1\" class=\"dataframe\">\n",
       "  <thead>\n",
       "    <tr style=\"text-align: right;\">\n",
       "      <th></th>\n",
       "      <th>hotel</th>\n",
       "      <th>is_canceled</th>\n",
       "      <th>lead_time</th>\n",
       "      <th>arrival_full_date</th>\n",
       "      <th>arrival_date_year</th>\n",
       "      <th>arrival_date_month</th>\n",
       "      <th>arrival_date_week_number</th>\n",
       "      <th>arrival_date_day_of_month</th>\n",
       "      <th>stays_in_weekend_nights</th>\n",
       "      <th>stays_in_week_nights</th>\n",
       "      <th>...</th>\n",
       "      <th>adults</th>\n",
       "      <th>children</th>\n",
       "      <th>babies</th>\n",
       "      <th>meal</th>\n",
       "      <th>country</th>\n",
       "      <th>reserved_room_type</th>\n",
       "      <th>assigned_room_type</th>\n",
       "      <th>customer_type</th>\n",
       "      <th>reservation_status</th>\n",
       "      <th>reservation_status_date</th>\n",
       "    </tr>\n",
       "  </thead>\n",
       "  <tbody>\n",
       "    <tr>\n",
       "      <th>0</th>\n",
       "      <td>Resort Hotel</td>\n",
       "      <td>0</td>\n",
       "      <td>342</td>\n",
       "      <td>2015-07-01</td>\n",
       "      <td>2015</td>\n",
       "      <td>July</td>\n",
       "      <td>27</td>\n",
       "      <td>1</td>\n",
       "      <td>0</td>\n",
       "      <td>0</td>\n",
       "      <td>...</td>\n",
       "      <td>2</td>\n",
       "      <td>0.00</td>\n",
       "      <td>0</td>\n",
       "      <td>BB</td>\n",
       "      <td>PRT</td>\n",
       "      <td>C</td>\n",
       "      <td>C</td>\n",
       "      <td>Transient</td>\n",
       "      <td>Check-Out</td>\n",
       "      <td>2015-07-01</td>\n",
       "    </tr>\n",
       "    <tr>\n",
       "      <th>1</th>\n",
       "      <td>Resort Hotel</td>\n",
       "      <td>0</td>\n",
       "      <td>737</td>\n",
       "      <td>2015-07-01</td>\n",
       "      <td>2015</td>\n",
       "      <td>July</td>\n",
       "      <td>27</td>\n",
       "      <td>1</td>\n",
       "      <td>0</td>\n",
       "      <td>0</td>\n",
       "      <td>...</td>\n",
       "      <td>2</td>\n",
       "      <td>0.00</td>\n",
       "      <td>0</td>\n",
       "      <td>BB</td>\n",
       "      <td>PRT</td>\n",
       "      <td>C</td>\n",
       "      <td>C</td>\n",
       "      <td>Transient</td>\n",
       "      <td>Check-Out</td>\n",
       "      <td>2015-07-01</td>\n",
       "    </tr>\n",
       "    <tr>\n",
       "      <th>2</th>\n",
       "      <td>Resort Hotel</td>\n",
       "      <td>0</td>\n",
       "      <td>7</td>\n",
       "      <td>2015-07-01</td>\n",
       "      <td>2015</td>\n",
       "      <td>July</td>\n",
       "      <td>27</td>\n",
       "      <td>1</td>\n",
       "      <td>0</td>\n",
       "      <td>1</td>\n",
       "      <td>...</td>\n",
       "      <td>1</td>\n",
       "      <td>0.00</td>\n",
       "      <td>0</td>\n",
       "      <td>BB</td>\n",
       "      <td>GBR</td>\n",
       "      <td>A</td>\n",
       "      <td>C</td>\n",
       "      <td>Transient</td>\n",
       "      <td>Check-Out</td>\n",
       "      <td>2015-07-02</td>\n",
       "    </tr>\n",
       "    <tr>\n",
       "      <th>3</th>\n",
       "      <td>Resort Hotel</td>\n",
       "      <td>0</td>\n",
       "      <td>13</td>\n",
       "      <td>2015-07-01</td>\n",
       "      <td>2015</td>\n",
       "      <td>July</td>\n",
       "      <td>27</td>\n",
       "      <td>1</td>\n",
       "      <td>0</td>\n",
       "      <td>1</td>\n",
       "      <td>...</td>\n",
       "      <td>1</td>\n",
       "      <td>0.00</td>\n",
       "      <td>0</td>\n",
       "      <td>BB</td>\n",
       "      <td>GBR</td>\n",
       "      <td>A</td>\n",
       "      <td>A</td>\n",
       "      <td>Transient</td>\n",
       "      <td>Check-Out</td>\n",
       "      <td>2015-07-02</td>\n",
       "    </tr>\n",
       "    <tr>\n",
       "      <th>4</th>\n",
       "      <td>Resort Hotel</td>\n",
       "      <td>0</td>\n",
       "      <td>14</td>\n",
       "      <td>2015-07-01</td>\n",
       "      <td>2015</td>\n",
       "      <td>July</td>\n",
       "      <td>27</td>\n",
       "      <td>1</td>\n",
       "      <td>0</td>\n",
       "      <td>2</td>\n",
       "      <td>...</td>\n",
       "      <td>2</td>\n",
       "      <td>0.00</td>\n",
       "      <td>0</td>\n",
       "      <td>BB</td>\n",
       "      <td>GBR</td>\n",
       "      <td>A</td>\n",
       "      <td>A</td>\n",
       "      <td>Transient</td>\n",
       "      <td>Check-Out</td>\n",
       "      <td>2015-07-03</td>\n",
       "    </tr>\n",
       "  </tbody>\n",
       "</table>\n",
       "<p>5 rows × 21 columns</p>\n",
       "</div>"
      ],
      "text/plain": [
       "          hotel  is_canceled  lead_time arrival_full_date  arrival_date_year  \\\n",
       "0  Resort Hotel            0        342        2015-07-01               2015   \n",
       "1  Resort Hotel            0        737        2015-07-01               2015   \n",
       "2  Resort Hotel            0          7        2015-07-01               2015   \n",
       "3  Resort Hotel            0         13        2015-07-01               2015   \n",
       "4  Resort Hotel            0         14        2015-07-01               2015   \n",
       "\n",
       "  arrival_date_month  arrival_date_week_number  arrival_date_day_of_month  \\\n",
       "0               July                        27                          1   \n",
       "1               July                        27                          1   \n",
       "2               July                        27                          1   \n",
       "3               July                        27                          1   \n",
       "4               July                        27                          1   \n",
       "\n",
       "   stays_in_weekend_nights  stays_in_week_nights  ...  adults  children  \\\n",
       "0                        0                     0  ...       2      0.00   \n",
       "1                        0                     0  ...       2      0.00   \n",
       "2                        0                     1  ...       1      0.00   \n",
       "3                        0                     1  ...       1      0.00   \n",
       "4                        0                     2  ...       2      0.00   \n",
       "\n",
       "   babies  meal country reserved_room_type assigned_room_type customer_type  \\\n",
       "0       0    BB     PRT                  C                  C     Transient   \n",
       "1       0    BB     PRT                  C                  C     Transient   \n",
       "2       0    BB     GBR                  A                  C     Transient   \n",
       "3       0    BB     GBR                  A                  A     Transient   \n",
       "4       0    BB     GBR                  A                  A     Transient   \n",
       "\n",
       "  reservation_status reservation_status_date  \n",
       "0          Check-Out              2015-07-01  \n",
       "1          Check-Out              2015-07-01  \n",
       "2          Check-Out              2015-07-02  \n",
       "3          Check-Out              2015-07-02  \n",
       "4          Check-Out              2015-07-03  \n",
       "\n",
       "[5 rows x 21 columns]"
      ]
     },
     "execution_count": 54,
     "metadata": {},
     "output_type": "execute_result"
    }
   ],
   "source": [
    "def rename_titles(name):\n",
    "    new_name = name.replace(' ', '_').lower()\n",
    "    return new_name\n",
    "\n",
    "df = df.rename(columns=rename_titles)\n",
    "\n",
    "df.head()"
   ]
  },
  {
   "cell_type": "code",
   "execution_count": 55,
   "id": "31ef6907",
   "metadata": {},
   "outputs": [
    {
     "name": "stdout",
     "output_type": "stream",
     "text": [
      "<class 'pandas.core.frame.DataFrame'>\n",
      "RangeIndex: 119390 entries, 0 to 119389\n",
      "Data columns (total 21 columns):\n",
      " #   Column                     Non-Null Count   Dtype  \n",
      "---  ------                     --------------   -----  \n",
      " 0   hotel                      119390 non-null  object \n",
      " 1   is_canceled                119390 non-null  int64  \n",
      " 2   lead_time                  119390 non-null  int64  \n",
      " 3   arrival_full_date          119390 non-null  object \n",
      " 4   arrival_date_year          119390 non-null  int64  \n",
      " 5   arrival_date_month         119390 non-null  object \n",
      " 6   arrival_date_week_number   119390 non-null  int64  \n",
      " 7   arrival_date_day_of_month  119390 non-null  int64  \n",
      " 8   stays_in_weekend_nights    119390 non-null  int64  \n",
      " 9   stays_in_week_nights       119390 non-null  int64  \n",
      " 10  stays_total_nights         119390 non-null  int64  \n",
      " 11  adults                     119390 non-null  int64  \n",
      " 12  children                   119386 non-null  float64\n",
      " 13  babies                     119390 non-null  int64  \n",
      " 14  meal                       119390 non-null  object \n",
      " 15  country                    118902 non-null  object \n",
      " 16  reserved_room_type         119390 non-null  object \n",
      " 17  assigned_room_type         119390 non-null  object \n",
      " 18  customer_type              119390 non-null  object \n",
      " 19  reservation_status         119390 non-null  object \n",
      " 20  reservation_status_date    119390 non-null  object \n",
      "dtypes: float64(1), int64(10), object(10)\n",
      "memory usage: 19.1+ MB\n"
     ]
    }
   ],
   "source": [
    "df.info()"
   ]
  },
  {
   "cell_type": "code",
   "execution_count": 56,
   "id": "02eaa310",
   "metadata": {},
   "outputs": [
    {
     "data": {
      "text/plain": [
       "country\n",
       "PRT    21071\n",
       "GBR     9676\n",
       "FRA     8481\n",
       "ESP     6391\n",
       "DEU     6069\n",
       "       ...  \n",
       "BHR        1\n",
       "DJI        1\n",
       "MLI        1\n",
       "NPL        1\n",
       "FRO        1\n",
       "Name: count, Length: 165, dtype: int64"
      ]
     },
     "execution_count": 56,
     "metadata": {},
     "output_type": "execute_result"
    }
   ],
   "source": [
    "df[df.is_canceled == 0].country.value_counts()"
   ]
  },
  {
   "cell_type": "code",
   "execution_count": 57,
   "id": "f4bf21b1",
   "metadata": {},
   "outputs": [
    {
     "data": {
      "text/html": [
       "<div>\n",
       "<style scoped>\n",
       "    .dataframe tbody tr th:only-of-type {\n",
       "        vertical-align: middle;\n",
       "    }\n",
       "\n",
       "    .dataframe tbody tr th {\n",
       "        vertical-align: top;\n",
       "    }\n",
       "\n",
       "    .dataframe thead th {\n",
       "        text-align: right;\n",
       "    }\n",
       "</style>\n",
       "<table border=\"1\" class=\"dataframe\">\n",
       "  <thead>\n",
       "    <tr style=\"text-align: right;\">\n",
       "      <th></th>\n",
       "      <th>stays_total_nights</th>\n",
       "    </tr>\n",
       "    <tr>\n",
       "      <th>hotel</th>\n",
       "      <th></th>\n",
       "    </tr>\n",
       "  </thead>\n",
       "  <tbody>\n",
       "    <tr>\n",
       "      <th>City Hotel</th>\n",
       "      <td>2.98</td>\n",
       "    </tr>\n",
       "    <tr>\n",
       "      <th>Resort Hotel</th>\n",
       "      <td>4.32</td>\n",
       "    </tr>\n",
       "  </tbody>\n",
       "</table>\n",
       "</div>"
      ],
      "text/plain": [
       "              stays_total_nights\n",
       "hotel                           \n",
       "City Hotel                  2.98\n",
       "Resort Hotel                4.32"
      ]
     },
     "execution_count": 57,
     "metadata": {},
     "output_type": "execute_result"
    }
   ],
   "source": [
    "stays_total_nights_mean = df.groupby('hotel').agg({'stays_total_nights': 'mean'})\n",
    "stays_total_nights_mean"
   ]
  },
  {
   "cell_type": "code",
   "execution_count": 58,
   "id": "706e1381",
   "metadata": {},
   "outputs": [
    {
     "data": {
      "text/plain": [
       "(14917, 21)"
      ]
     },
     "execution_count": 58,
     "metadata": {},
     "output_type": "execute_result"
    }
   ],
   "source": [
    "df.query('assigned_room_type != reserved_room_type').shape"
   ]
  },
  {
   "cell_type": "code",
   "execution_count": 59,
   "id": "815ff92a",
   "metadata": {},
   "outputs": [
    {
     "data": {
      "text/plain": [
       "arrival_date_year\n",
       "2016    56707\n",
       "2017    40687\n",
       "2015    21996\n",
       "Name: count, dtype: int64"
      ]
     },
     "execution_count": 59,
     "metadata": {},
     "output_type": "execute_result"
    }
   ],
   "source": [
    "df.arrival_date_year.value_counts()"
   ]
  },
  {
   "cell_type": "code",
   "execution_count": 76,
   "id": "c0091c42",
   "metadata": {},
   "outputs": [
    {
     "data": {
      "image/png": "[encoded data removed]",
      "text/plain": [
       "<Figure size 640x480 with 1 Axes>"
      ]
     },
     "metadata": {},
     "output_type": "display_data"
    }
   ],
   "source": [
    "arrival_date_df = df.groupby(['arrival_date_year', 'arrival_date_month'], as_index=False).size()\n",
    "\n",
    "order1 = ['January','February','March', 'April', 'May','June', 'July','August', 'September', 'October', 'November','December']\n",
    "sns.barplot(x='arrival_date_month',\n",
    "            y='size',\n",
    "            order=order1,\n",
    "            data=arrival_date_df)\n",
    "plt.xticks(rotation=90)\n",
    "plt.show()"
   ]
  },
  {
   "cell_type": "code",
   "execution_count": 78,
   "id": "ee2be9c0",
   "metadata": {},
   "outputs": [
    {
     "name": "stderr",
     "output_type": "stream",
     "text": [
      "/opt/anaconda3/lib/python3.11/site-packages/seaborn/_oldcore.py:1119: FutureWarning: use_inf_as_na option is deprecated and will be removed in a future version. Convert inf values to NaN before operating instead.\n",
      "  with pd.option_context('mode.use_inf_as_na', True):\n",
      "/opt/anaconda3/lib/python3.11/site-packages/seaborn/_oldcore.py:1119: FutureWarning: use_inf_as_na option is deprecated and will be removed in a future version. Convert inf values to NaN before operating instead.\n",
      "  with pd.option_context('mode.use_inf_as_na', True):\n"
     ]
    },
    {
     "data": {
      "image/png": "[encoded data removed]",
      "text/plain": [
       "<Figure size 640x480 with 1 Axes>"
      ]
     },
     "metadata": {},
     "output_type": "display_data"
    }
   ],
   "source": [
    "arrival_date_df = df.groupby(['arrival_date_year', 'arrival_date_month'], as_index=False).size()\n",
    "\n",
    "sns.lineplot(x='arrival_date_month',\n",
    "            y='size',\n",
    "            hue='arrival_date_year',\n",
    "            data=arrival_date_df)\n",
    "plt.xticks(rotation=90)\n",
    "plt.show()"
   ]
  },
  {
   "cell_type": "code",
   "execution_count": 87,
   "id": "cc98e9ad",
   "metadata": {},
   "outputs": [
    {
     "data": {
      "text/plain": [
       "arrival_date_year  arrival_date_month\n",
       "2015               September             1543\n",
       "                   October               1321\n",
       "                   August                1232\n",
       "                   July                   939\n",
       "                   December               668\n",
       "                   November               301\n",
       "2016               October               1947\n",
       "                   June                  1720\n",
       "                   September             1567\n",
       "                   April                 1539\n",
       "                   May                   1436\n",
       "                   November              1360\n",
       "                   August                1247\n",
       "                   March                 1108\n",
       "                   December              1072\n",
       "                   July                  1043\n",
       "                   February               930\n",
       "                   January                438\n",
       "2017               May                   2217\n",
       "                   April                 1926\n",
       "                   June                  1808\n",
       "                   July                  1324\n",
       "                   March                 1278\n",
       "                   August                1123\n",
       "                   January               1044\n",
       "                   February               971\n",
       "Name: count, dtype: int64"
      ]
     },
     "execution_count": 87,
     "metadata": {},
     "output_type": "execute_result"
    }
   ],
   "source": [
    "canceled = df.query(\"is_canceled == 1 and hotel == 'City Hotel'\")\n",
    "canceled = canceled.groupby('arrival_date_year')['arrival_date_month'].value_counts()\n",
    "canceled"
   ]
  },
  {
   "cell_type": "code",
   "execution_count": 92,
   "id": "e2a3ce31",
   "metadata": {},
   "outputs": [
    {
     "data": {
      "text/plain": [
       "'adults'"
      ]
     },
     "execution_count": 92,
     "metadata": {},
     "output_type": "execute_result"
    }
   ],
   "source": [
    "df[['adults', 'children', 'babies']].mean().idxmax()"
   ]
  },
  {
   "cell_type": "code",
   "execution_count": 95,
   "id": "9fd4be19",
   "metadata": {},
   "outputs": [
    {
     "data": {
      "text/html": [
       "<div>\n",
       "<style scoped>\n",
       "    .dataframe tbody tr th:only-of-type {\n",
       "        vertical-align: middle;\n",
       "    }\n",
       "\n",
       "    .dataframe tbody tr th {\n",
       "        vertical-align: top;\n",
       "    }\n",
       "\n",
       "    .dataframe thead th {\n",
       "        text-align: right;\n",
       "    }\n",
       "</style>\n",
       "<table border=\"1\" class=\"dataframe\">\n",
       "  <thead>\n",
       "    <tr style=\"text-align: right;\">\n",
       "      <th></th>\n",
       "      <th>total_kids</th>\n",
       "    </tr>\n",
       "    <tr>\n",
       "      <th>hotel</th>\n",
       "      <th></th>\n",
       "    </tr>\n",
       "  </thead>\n",
       "  <tbody>\n",
       "    <tr>\n",
       "      <th>City Hotel</th>\n",
       "      <td>0.10</td>\n",
       "    </tr>\n",
       "    <tr>\n",
       "      <th>Resort Hotel</th>\n",
       "      <td>0.14</td>\n",
       "    </tr>\n",
       "  </tbody>\n",
       "</table>\n",
       "</div>"
      ],
      "text/plain": [
       "              total_kids\n",
       "hotel                   \n",
       "City Hotel          0.10\n",
       "Resort Hotel        0.14"
      ]
     },
     "execution_count": 95,
     "metadata": {},
     "output_type": "execute_result"
    }
   ],
   "source": [
    "df['total_kids'] = df.babies + df.children\n",
    "df.groupby('hotel').agg({'total_kids': 'mean'})"
   ]
  },
  {
   "cell_type": "code",
   "execution_count": 104,
   "id": "34ec7e56",
   "metadata": {},
   "outputs": [
    {
     "data": {
      "text/plain": [
       "37.22"
      ]
     },
     "execution_count": 104,
     "metadata": {},
     "output_type": "execute_result"
    }
   ],
   "source": [
    "df['has_kids'] = df.total_kids > 0\n",
    "no_kids_chirn = df.query('is_canceled == 1 and has_kids == False').shape[0] / df.query('has_kids == False').shape[0]\n",
    "no_kids_chirn = round(no_kids_chirn* 100, 2)\n",
    "no_kids_chirn"
   ]
  },
  {
   "cell_type": "code",
   "execution_count": 105,
   "id": "9d5aec33",
   "metadata": {},
   "outputs": [
    {
     "data": {
      "text/plain": [
       "34.92"
      ]
     },
     "execution_count": 105,
     "metadata": {},
     "output_type": "execute_result"
    }
   ],
   "source": [
    "yes_kids_chirn = df.query('is_canceled == 1 and has_kids == True').shape[0] / df.query('has_kids == True').shape[0]\n",
    "yes_kids_chirn = round(yes_kids_chirn* 100, 2)\n",
    "yes_kids_chirn"
   ]
  }
 ],
 "metadata": {
  "kernelspec": {
   "display_name": "Python 3 (ipykernel)",
   "language": "python",
   "name": "python3"
  },
  "language_info": {
   "codemirror_mode": {
    "name": "ipython",
    "version": 3
   },
   "file_extension": ".py",
   "mimetype": "text/x-python",
   "name": "python",
   "nbconvert_exporter": "python",
   "pygments_lexer": "ipython3",
   "version": "3.11.7"
  }
 },
 "nbformat": 4,
 "nbformat_minor": 5
}
